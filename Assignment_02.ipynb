{
 "cells": [
  {
   "cell_type": "markdown",
   "metadata": {},
   "source": [
    "# Introduction to Programming (Summer2018)\n",
    "\n",
    "## Assignment 2 (Due date: 02 August 2018, by midnight)"
   ]
  },
  {
   "cell_type": "markdown",
   "metadata": {},
   "source": [
    "### Question 1\n",
    "\n",
    "#### String Handling\n",
    "#### 1.1) \n",
    "Complete the following function which checks whether a DNA sequence is valid. A valid DNA sequence will only contain **'A,a,C,c,G,g,T,t'** characters for this question. If the sequence is valid return **True**, otherwise return **False**.\n",
    "\n",
    "*When running the block, the assert statements will raise errors if your program does not return the correct response.*\n"
   ]
  },
  {
   "cell_type": "code",
   "execution_count": 47,
   "metadata": {},
   "outputs": [],
   "source": [
    "nucleotides = ['A','a','T','t','C','c','G','g']         # create global list of acceptable nucleotides\n",
    "\n",
    "\n",
    "def validity_check(sequence):            # create function to check if sequence input is composed of valid nucleotides\n",
    "    for nucleotide in sequence:                         # iterate through each character in string 'sequence'\n",
    "        if nucleotide not in nucleotides:               # if character in string 'sequence' is not a nucleotide\n",
    "            return False                                # return false, otherwise, return true\n",
    "    return True\n",
    "\n",
    "assert validity_check('ACGT') == True, 'validity_check(\"ACGT\") returns False, should return True'\n",
    "assert validity_check('acgt') == True, 'validity_check(\"acgt\") returns False, should return True'\n",
    "assert validity_check('AGUC') == False, 'validity_check(\"AGUC\") returns True, should return False'\n",
    "assert validity_check('PPPP') == False, 'validity_check(\"PPPP\") returns True, should return False'"
   ]
  },
  {
   "cell_type": "markdown",
   "metadata": {},
   "source": [
    "#### 1.2)\n",
    "Complete the following function which will return the reverse complement of a DNA sequence.\n",
    "\n",
    "The reverse complement is calculated by reversing the sequence and substituting: \n",
    "+ 'A' with 'T'\n",
    "+ 'T' with 'A'\n",
    "+ 'G' with 'C'\n",
    "+ 'C' with 'G'\n",
    "\n",
    "EG:\n",
    "```\n",
    "reverse_complement('AATC')\n",
    "\n",
    "step 1 - reverse the sequence:\n",
    "    reverse = 'CTAA'\n",
    "    \n",
    "step 2 - replace the characters with their complement:\n",
    "    'C' -> 'G'\n",
    "    'T' -> 'A'\n",
    "    'A' -> 'T'\n",
    "    'A' -> 'T'\n",
    "    \n",
    "    complement = 'GATT' \n",
    "```\n",
    "\n",
    "*When running the block, the assert statements will raise errors if your program does not return the correct response.*"
   ]
  },
  {
   "cell_type": "code",
   "execution_count": 4,
   "metadata": {},
   "outputs": [],
   "source": [
    "def reverse_complement(sequence):                               # Create function to generate a reverse complement.\n",
    "    reverse_comp = []                                           # Create an empty list to append reverse nuc into.\n",
    "    reverse_sequence = sequence[::-1]                           # Create a string that is the reverse of 'sequence'.\n",
    "    for nucleotide in reverse_sequence:                         # Call values from complement_dict based on key\n",
    "        reverse_comp.append(complement_dict[nucleotide])        # corresponding to nucleotide in reverse_seq.\n",
    "    reverse_comp = ''.join(reverse_comp)                        # Turn the list of reverse complements into a string.\n",
    "    return reverse_comp\n",
    "\n",
    "# create dictionary of key value pairs for nucleotides and their complements\n",
    "complement_dict = {'A':'T','T':'A','G':'C','C':'G','a':'t','t':'a','g':'c','c':'g'}\n",
    "\n",
    "\n",
    "assert reverse_complement('AAGCT') == 'AGCTT', 'reverse_complement(\"AAGCT\") should return \"AGCTT\"'\n",
    "assert reverse_complement('tggca') in ['tgcca','TGCCA'], 'reverse_complement(\"tggca\") should return \"tgcca\"'"
   ]
  },
  {
   "cell_type": "markdown",
   "metadata": {},
   "source": [
    "#### 1.3)\n",
    "\n",
    "Write a script which will allow a user to input multiple DNA sequences one at a time. You do not know how many in advance and should take this into account. Your code will then check if the sequence is valid and return the reverse complement if it is. If the sequence is not valid, print an error message alerting the user to this.\n",
    "\n",
    "It would be a good idea to use the functions you created in 1.1 and 1.2\n",
    "\n",
    "```\n",
    "PSEUDOCODE:\n",
    "loop until '' is entered:\n",
    "    prompt user for a new seq\n",
    "    if seq is valid:\n",
    "        output reverse complement\n",
    "    else\n",
    "        output error message indicating that sequence was invalid\n",
    "```"
   ]
  },
  {
   "cell_type": "code",
   "execution_count": 5,
   "metadata": {},
   "outputs": [
    {
     "name": "stdout",
     "output_type": "stream",
     "text": [
      "Enter sequence: tag\n",
      "Reverse complement: cta\n",
      "Enter sequence: lol\n",
      "Error: invalid sequence.\n",
      "Enter sequence: gtatata\n",
      "Reverse complement: tatatac\n",
      "Enter sequence: \n",
      "Done.\n"
     ]
    }
   ],
   "source": [
    "# see 3.1 and 3.2 for notes on the creation of validity_check and reverse_function functions\n",
    "\n",
    "# create a global dictionary of key value pairs for nucleotides and their complements\n",
    "complement_dict = {'A':'T','T':'A','G':'C','C':'G','a':'t','t':'a','g':'c','c':'g'}\n",
    "\n",
    "# create a global list of valid nucleotides\n",
    "nucleotides = ['A','a','T','t','C','c','G','g']      \n",
    "\n",
    "def validity_check(sequence):\n",
    "    for nucleotide in sequence:\n",
    "        if nucleotide not in nucleotides:\n",
    "            return False\n",
    "    return True\n",
    "\n",
    "def reverse_complement(sequence):\n",
    "        reverse_comp = []\n",
    "        reverse_sequence = sequence[::-1]\n",
    "        for nucleotide in reverse_sequence:\n",
    "            reverse_comp.append(complement_dict[nucleotide])\n",
    "        reverse_comp = ''.join(reverse_comp)   \n",
    "        return reverse_comp\n",
    "\n",
    "while True:                                           # Create a while loop to call functions in order.\n",
    "    dna_input = input('Enter sequence: ')             # Prompt user for input of DNA sequence.\n",
    "    if dna_input is (''):                             # If the user enters a blank sequence,\n",
    "        print('Done.')                                # indicate the loop is over,\n",
    "        break                                         # then break out of the loop.\n",
    "    else:                                             # If the user inputs anything, \n",
    "        if validity_check(dna_input) is False:        # check the validity using the validity_check function.\n",
    "            print('Error: invalid sequence.')         # Indicate the false validity and loop back to the input prompt.\n",
    "        else:                                         # If the sequence is valid,\n",
    "            print('Reverse complement:',reverse_complement(dna_input))  # generate reverse complement and print.\n"
   ]
  },
  {
   "cell_type": "markdown",
   "metadata": {},
   "source": [
    "### Question 2\n",
    "\n",
    "In cryptography there are many ways to code messages. An easy method is to shift the alphabet by a given amount, this is known as a Caesar Cipher http://practicalcryptography.com/ciphers/caesar-cipher/.\n",
    "\n",
    "EG:\n",
    "\n",
    "Shift|A|B|C|D|E|F|G|H|I|J|K|L|M|N|O|P|Q|R|S|T|U|V|W|X|Y|Z|\n",
    "-|-|-|-|-|-|-|-|-|-|-|-|-|-|-|-|-|-|-|-|-|-|-|-|-|-|-|\n",
    "1|B|C|D|E|F|G|H|I|J|K|L|M|N|O|P|Q|R|S|T|U|V|W|X|Y|Z|A|\n",
    "2|C|D|E|F|G|H|I|J|K|L|M|N|O|P|Q|R|S|T|U|V|W|X|Y|Z|A|B|\n",
    "10|K|L|M|N|O|P|Q|R|S|T|U|V|W|X|Y|Z|A|B|C|D|E|F|G|H|I|J|\n",
    "\n",
    "In the case of using an alphabet which has been shifted by 1, 'A' will be replaced with 'B', 'B' will be replaced with 'C', ..., 'Z' is replaced with 'A'.\n",
    "\n",
    "#### 2.1)\n",
    "Complete the following function which takes a string and an integer which represents the shift and returns an encoded string."
   ]
  },
  {
   "cell_type": "code",
   "execution_count": 6,
   "metadata": {},
   "outputs": [],
   "source": [
    "# Create dictionary of the alphabet with the letter as the key and the number as the value.\n",
    "alphabet = {'A': 0,'B': 1,'C': 2,'D': 3,'E': 4,'F': 5,'G': 6,'H': 7,'I': 8,'J': 9,'K': 10,\n",
    "                'L': 11,'M': 12,'N': 13,'O': 14,'P': 15,'Q': 16,'R': 17,'S': 18,'T': 19,'U': 20,\n",
    "                'V': 21,'W': 22,'X': 23,'Y': 24,'Z': 25}\n",
    "\n",
    "# Create an inverted dictionary of the alphabet where the number is the key and the letter is the value.\n",
    "inv_alphabet = {v: k for k, v in alphabet.items()}\n",
    "\n",
    "\n",
    "def encode_string(message, shift=5):    # Create a function that takes a message and a shift value as input.\n",
    "    secret_message = []                 # Create an empty list to append the encoded message into.\n",
    "    for letter in message:              # Iterate through each character in the input string 'message'.\n",
    "        x = (alphabet[letter] + shift)  # Assign value attached to each letter in message to variable 'x' and apply shift.\n",
    "        if x > 25:                      # Correct for any value of x that excedes max of dictionary values (25).\n",
    "            x = x-26                    # If value is greater than 25, correct by subtracting the total number of elements in list (26).\n",
    "        letter = inv_alphabet[x]        # Use inverted dictionary to assign letters to new numbers created with the shift.\n",
    "        secret_message.append(letter)   # Add each new letter to the secret_message list.\n",
    "    secret_message = ''.join(secret_message)   # Convert list into string using 'join'.\n",
    "    return secret_message               # Return string of new encoded message.\n",
    "\n",
    "\n",
    "assert encode_string('ABCD', 1) == 'BCDE', \"encode_string('ABCD', 1) should return 'BCDE'\"\n",
    "assert encode_string('FOOBAR', 3) == 'IRREDU', \"encode_string('FOOBAR', 3) should return 'IRREDU'\"\n",
    "assert encode_string('XYZ') == 'CDE', \"encode_string('XYZ', 3) should return 'CDE'\""
   ]
  },
  {
   "cell_type": "markdown",
   "metadata": {},
   "source": [
    "#### 2.2)\n",
    "\n",
    "Complete the following function which takes a string and an integer which represents the shift and returns the decoded message"
   ]
  },
  {
   "cell_type": "code",
   "execution_count": 7,
   "metadata": {},
   "outputs": [],
   "source": [
    "# Create dictionary of the alphabet.\n",
    "alphabet = {'A': 0,'B': 1,'C': 2,'D': 3,'E': 4,'F': 5,'G': 6,'H': 7,'I': 8,'J': 9,'K': 10,\n",
    "                'L': 11,'M': 12,'N': 13,'O': 14,'P': 15,'Q': 16,'R': 17,'S': 18,'T': 19,'U': 20,\n",
    "                'V': 21,'W': 22,'X': 23,'Y': 24,'Z': 25}\n",
    "\n",
    "# Create an inverted dictionary of the alphabet.\n",
    "inv_alphabet = {v: k for k, v in alphabet.items()}\n",
    "\n",
    "def decode_string(message, shift=5):    # Create a function that takes an encoded message and its shift value as input.\n",
    "    decoded_message = []                # Create an empty list to append the decoded message into.\n",
    "    for letter in message:              # Iterate through each character in the input string 'message'.\n",
    "        x = (alphabet[letter] - shift)  # Assign value attached to each letter in message to variable 'x' and apply negative shift.\n",
    "        if x < 0:                       # Correct for any value of x that is below min of dictionary values (0).\n",
    "            x = x+26                    # If value is less than 0, correct by adding the total number of elements in list (26).\n",
    "        letter = inv_alphabet[x]        # Use inverted dictionary to assign letters to new numbers created with the negative shift.\n",
    "        decoded_message.append(letter)  # Add each new letter to the decoded_message list.\n",
    "    decoded_message = ''.join(decoded_message)   # Convert list into string using 'join'.\n",
    "    return decoded_message              # Return string of new encoded message.\n",
    "\n",
    "assert decode_string('MNO', 10) == 'CDE', \"decode_string('MNO', 10) should return 'CDE'\"\n",
    "assert decode_string('PYTHON') == 'KTOCJI', \"decode_string('PYTHON') should return 'KTOCJI'\"\n",
    "\n",
    "assert decode_string(encode_string('ABCD', 1), 1) == 'ABCD', \"decode_string(encode_string('ABCD', 1), 1) should return 'ABCD'\"\n",
    "assert decode_string(encode_string('FOOBAR', 3), 3) == 'FOOBAR', \"decode_string(encode_string('FOOBAR', 3), 3) should return 'FOOBAR'\"\n",
    "assert decode_string(encode_string('XYZ')) == 'XYZ', \"decode_string(encode_string('XYZ')) should return 'XYZ'\""
   ]
  },
  {
   "cell_type": "markdown",
   "metadata": {},
   "source": [
    "### Question 3\n",
    "\n",
    "Write code which will reproduce each of the following patterns given an input size N\n",
    "\n",
    "Example:\n",
    "\n",
    "```\n",
    "N = 10\n",
    "\n",
    " x x x x x x x x x x\n",
    " x o x o x o x o x o\n",
    " x x x x x x x x x x\n",
    " x o x o x o x o x o\n",
    " x x x x x x x x x x\n",
    " x o x o x o x o x o\n",
    " x x x x x x x x x x\n",
    " x o x o x o x o x o\n",
    " x x x x x x x x x x\n",
    " x o x o x o x o x o\n",
    "\n",
    "```"
   ]
  },
  {
   "cell_type": "code",
   "execution_count": null,
   "metadata": {},
   "outputs": [],
   "source": [
    "N = 10\n",
    "pattern = [[' o' for x in range(N)] for y in range(N)]\n",
    "\n",
    "for j in range(N):\n",
    "    for i in range(N):\n",
    "        if j%2 == 0 or i%2 == 0:\n",
    "            pattern[j][i] = ' x'\n",
    "\n",
    "for row in pattern:\n",
    "    print(''.join(row))"
   ]
  },
  {
   "cell_type": "markdown",
   "metadata": {},
   "source": [
    "#### 3.1)\n",
    "\n",
    "```\n",
    "N = 10\n",
    "\n",
    " x x x x x x x x x x\n",
    " x o o o o o o o o x\n",
    " x o o o o o o o o x\n",
    " x o o o o o o o o x\n",
    " x o o o o o o o o x\n",
    " x o o o o o o o o x\n",
    " x o o o o o o o o x\n",
    " x o o o o o o o o x\n",
    " x o o o o o o o o x\n",
    " x x x x x x x x x x\n",
    "```"
   ]
  },
  {
   "cell_type": "code",
   "execution_count": 99,
   "metadata": {},
   "outputs": [
    {
     "name": "stdout",
     "output_type": "stream",
     "text": [
      " x x x x x x x x x x\n",
      " x o o o o o o o o x\n",
      " x o o o o o o o o x\n",
      " x o o o o o o o o x\n",
      " x o o o o o o o o x\n",
      " x o o o o o o o o x\n",
      " x o o o o o o o o x\n",
      " x o o o o o o o o x\n",
      " x o o o o o o o o x\n",
      " x x x x x x x x x x\n"
     ]
    }
   ],
   "source": [
    "N = 10\n",
    "pattern = [[' o' for x in range(N)] for y in range(N)]    # Pattern is a list that defaults every position in every \n",
    "                                                          # row of size 'N' to be 'o'.\n",
    "\n",
    "for j in range(N):                             # Iterate through the rows...\n",
    "    for i in range(N):                        # and iterate through each position in each row.\n",
    "        if j%(N-1) == 0 or i%(N-1) == 0:       # Make the outer edges 'x' when the row OR column\n",
    "            pattern[j][i] = ' x'               # is either zero or equal to N-1. This can be assigned\n",
    "                                               # by dividng the row (j) OR column (i) by N-1.\n",
    "for row in pattern:\n",
    "    print(''.join(row))                        # Print each row as a string."
   ]
  },
  {
   "cell_type": "markdown",
   "metadata": {},
   "source": [
    "#### 3.2)\n",
    "\n",
    "```\n",
    "N = 9\n",
    "\n",
    " x o o o o o o o x\n",
    " o x o o o o o x o\n",
    " o o x o o o x o o\n",
    " o o o x o x o o o\n",
    " o o o o x o o o o\n",
    " o o o x o x o o o\n",
    " o o x o o o x o o\n",
    " o x o o o o o x o\n",
    " x o o o o o o o x\n",
    " \n",
    "N = 10\n",
    "\n",
    " x o o o o o o o o x\n",
    " o x o o o o o o x o\n",
    " o o x o o o o x o o\n",
    " o o o x o o x o o o\n",
    " o o o o x x o o o o\n",
    " o o o o x x o o o o\n",
    " o o o x o o x o o o\n",
    " o o x o o o o x o o\n",
    " o x o o o o o o x o\n",
    " x o o o o o o o o x\n",
    "\n",
    "\n",
    "```"
   ]
  },
  {
   "cell_type": "code",
   "execution_count": 107,
   "metadata": {},
   "outputs": [
    {
     "name": "stdout",
     "output_type": "stream",
     "text": [
      " x o o o o o o o x\n",
      " o x o o o o o x o\n",
      " o o x o o o x o o\n",
      " o o o x o x o o o\n",
      " o o o o x o o o o\n",
      " o o o x o x o o o\n",
      " o o x o o o x o o\n",
      " o x o o o o o x o\n",
      " x o o o o o o o x\n"
     ]
    }
   ],
   "source": [
    "N = 9\n",
    "\n",
    "pattern = [[' o' for x in range(N)] for y in range(N)]\n",
    "\n",
    "for j in range(N):\n",
    "    for i in range(N):\n",
    "        if i == j or i + j == (N-1):             # Create the X pattern by assigning 'x' under two conditions.\n",
    "            pattern[j][i] = ' x'                 # When i is equal to j and 'x' is assigned, this creates the\n",
    "                                                 # diagonal line spanning from top left to bottom right.\n",
    "for row in pattern:                              # When i + j is equal to one less than N and 'x' is assigned,\n",
    "    print(''.join(row))                          # this creates the diagonal line from bottom left to top right."
   ]
  },
  {
   "cell_type": "code",
   "execution_count": 108,
   "metadata": {},
   "outputs": [
    {
     "name": "stdout",
     "output_type": "stream",
     "text": [
      " x o o o o o o o o x\n",
      " o x o o o o o o x o\n",
      " o o x o o o o x o o\n",
      " o o o x o o x o o o\n",
      " o o o o x x o o o o\n",
      " o o o o x x o o o o\n",
      " o o o x o o x o o o\n",
      " o o x o o o o x o o\n",
      " o x o o o o o o x o\n",
      " x o o o o o o o o x\n"
     ]
    }
   ],
   "source": [
    "# The same function works for any value of 'N'. See previous example of N=9 for annotations.\n",
    "N = 10\n",
    "\n",
    "pattern = [[' o' for x in range(N)] for y in range(N)]\n",
    "\n",
    "for j in range(N):\n",
    "    for i in range(N):\n",
    "        if i == j or i + j == (N-1):\n",
    "            pattern[j][i] = ' x'\n",
    "\n",
    "for row in pattern:\n",
    "    print(''.join(row))"
   ]
  },
  {
   "cell_type": "markdown",
   "metadata": {},
   "source": [
    "#### 3.3)\n",
    "\n",
    "```\n",
    "N = 10\n",
    "\n",
    " o x o x o x o x o x\n",
    " x o x o x o x o x o\n",
    " o x o x o x o x o x\n",
    " x o x o x o x o x o\n",
    " o x o x o x o x o x\n",
    " x o x o x o x o x o\n",
    " o x o x o x o x o x\n",
    " x o x o x o x o x o\n",
    " o x o x o x o x o x\n",
    " x o x o x o x o x o\n",
    "\n",
    "```"
   ]
  },
  {
   "cell_type": "code",
   "execution_count": 113,
   "metadata": {},
   "outputs": [
    {
     "name": "stdout",
     "output_type": "stream",
     "text": [
      " o x o x o x o x o x\n",
      " x o x o x o x o x o\n",
      " o x o x o x o x o x\n",
      " x o x o x o x o x o\n",
      " o x o x o x o x o x\n",
      " x o x o x o x o x o\n",
      " o x o x o x o x o x\n",
      " x o x o x o x o x o\n",
      " o x o x o x o x o x\n",
      " x o x o x o x o x o\n"
     ]
    }
   ],
   "source": [
    "N = 10\n",
    "pattern = [[' o' for x in range(N)] for y in range(N)]\n",
    "\n",
    "for j in range(N):\n",
    "    for i in range(N):\n",
    "        if (j%2 == 1 and i%2 == 0) or (j%2 == 0 and i%2 ==1): # When j and i are opposites of each other (one is odd\n",
    "            pattern[j][i] = ' x'                              # and the other is even), assign 'x' to replace the \n",
    "                                                              # default 'o'. This gives the every other pattern.\n",
    "for row in pattern:\n",
    "    print(''.join(row))         "
   ]
  },
  {
   "cell_type": "markdown",
   "metadata": {},
   "source": [
    "#### 3.4)\n",
    "\n",
    "```\n",
    "N = 9\n",
    " x x x x x x x x x\n",
    " x x x x o x x x x\n",
    " x x x o o o x x x\n",
    " x x o o o o o x x\n",
    " x o o o o o o o x\n",
    " x x o o o o o x x\n",
    " x x x o o o x x x\n",
    " x x x x o x x x x\n",
    " x x x x x x x x x\n",
    "\n",
    "\n",
    "N = 10\n",
    "\n",
    " x x x x x x x x x x\n",
    " x x x x o o x x x x\n",
    " x x x o o o o x x x\n",
    " x x o o o o o o x x\n",
    " x o o o o o o o o x\n",
    " x o o o o o o o o x\n",
    " x x o o o o o o x x\n",
    " x x x o o o o x x x\n",
    " x x x x o o x x x x\n",
    " x x x x x x x x x x\n",
    "```"
   ]
  },
  {
   "cell_type": "code",
   "execution_count": 19,
   "metadata": {},
   "outputs": [
    {
     "name": "stdout",
     "output_type": "stream",
     "text": [
      " x x x x x x x x x\n",
      " x x x x o x x x x\n",
      " x x x o o o x x x\n",
      " x x o o o o o x x\n",
      " x o o o o o o o x\n",
      " x x o o o o o x x\n",
      " x x x o o o x x x\n",
      " x x x x o x x x x\n",
      " x x x x x x x x x\n"
     ]
    }
   ],
   "source": [
    "# Note: this function only works for N=9 :(\n",
    "# I split the grid into quadrants, first dividing the grid into the top and bottom halves,\n",
    "# then specifying for the left and the right sides of each.\n",
    "\n",
    "N = 9\n",
    "pattern = [[' o' for x in range(N)] for y in range(N)]\n",
    "\n",
    "for j in range(N):\n",
    "    for i in range(N):\n",
    "        if j%(N-1) == 0 or i%(N-1) == 0:      # This code assigns 'x' to each of the border positions.\n",
    "            pattern[j][i] = ' x'\n",
    "        elif j<(N/2) and (j+i < N/2 or i-j > (N-6)):     # j<(N/2) specifies the top half of the grid\n",
    "            pattern[j][i] = ' x'\n",
    "        elif j>=(N/2) and (j-i > (N-6) or j+i > (N+2)):  # j>=(N/2) specifies the bottom half of the grid\n",
    "            pattern[j][i] = ' x'\n",
    "            \n",
    "\n",
    "for row in pattern:\n",
    "    print(''.join(row))"
   ]
  },
  {
   "cell_type": "code",
   "execution_count": 21,
   "metadata": {},
   "outputs": [
    {
     "name": "stdout",
     "output_type": "stream",
     "text": [
      " x x x x x x x x x x\n",
      " x x x x o o x x x x\n",
      " x x x o o o o x x x\n",
      " x x o o o o o o x x\n",
      " x o o o o o o o o x\n",
      " x o o o o o o o o x\n",
      " x x o o o o o o x x\n",
      " x x x o o o o x x x\n",
      " x x x x o o x x x x\n",
      " x x x x x x x x x x\n"
     ]
    }
   ],
   "source": [
    "# The same logic was applied to create the pattern for N=10 and the functions are almost identical, except for one\n",
    "# line, as specified below. While this makes the code seem almost universal, it isn't :( I did many calculations\n",
    "# for my method for N=5 all the way through N=12, but to make it universal I would have to take a different approach.\n",
    "# This was a lot of math already, so I'm going to turn it in as is, but I would like to solve the universal function \n",
    "# on my own time in the future.\n",
    "\n",
    "N = 10\n",
    "pattern = [[' o' for x in range(N)] for y in range(N)]\n",
    "\n",
    "for j in range(N):\n",
    "    for i  in range(N):\n",
    "        if j%(N-1) == 0 or i%(N-1) == 0:\n",
    "            pattern[j][i] = ' x'\n",
    "        elif j<(N/2) and (j+i < N/2 or i-j > (N-6)):\n",
    "            pattern[j][i] = ' x'\n",
    "        elif j>=(N/2) and (j-i > (N-6) or j+i > (N+3)):   # This is the line that is different between N=9 and N=10.\n",
    "            pattern[j][i] = ' x'\n",
    "            \n",
    "\n",
    "for row in pattern:\n",
    "    print(''.join(row))"
   ]
  }
 ],
 "metadata": {
  "kernelspec": {
   "display_name": "Python 3",
   "language": "python",
   "name": "python3"
  },
  "language_info": {
   "codemirror_mode": {
    "name": "ipython",
    "version": 3
   },
   "file_extension": ".py",
   "mimetype": "text/x-python",
   "name": "python",
   "nbconvert_exporter": "python",
   "pygments_lexer": "ipython3",
   "version": "3.6.6"
  }
 },
 "nbformat": 4,
 "nbformat_minor": 2
}
